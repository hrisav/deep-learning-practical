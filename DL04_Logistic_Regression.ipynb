{
  "nbformat": 4,
  "nbformat_minor": 0,
  "metadata": {
    "colab": {
      "name": "DL04_Logistic_Regression.ipynb",
      "provenance": [],
      "collapsed_sections": []
    },
    "kernelspec": {
      "name": "python3",
      "display_name": "Python 3"
    },
    "language_info": {
      "name": "python"
    }
  },
  "cells": [
    {
      "cell_type": "code",
      "metadata": {
        "id": "Un1S-J4kbbpt"
      },
      "source": [
        "import torch\n",
        "import torch.nn as nn\n",
        "import numpy as np\n",
        "from sklearn import datasets\n",
        "import matplotlib.pyplot as plt"
      ],
      "execution_count": 1,
      "outputs": []
    },
    {
      "cell_type": "code",
      "metadata": {
        "id": "LpLrDAx3bjeu"
      },
      "source": [
        "# preparing data\n",
        "# adding noise means that the network is less able to memorize training samples\n",
        "\n",
        "X_numpy, y_numpy = datasets.make_classification(n_samples=100, n_features=10, n_classes=2, weights=[0.7,0.3], random_state=4)"
      ],
      "execution_count": 9,
      "outputs": []
    },
    {
      "cell_type": "code",
      "metadata": {
        "colab": {
          "base_uri": "https://localhost:8080/"
        },
        "id": "xTkhY8-T3GpW",
        "outputId": "89805f1e-a6d9-400e-aeb9-9392b62cbbd5"
      },
      "source": [
        "X_numpy.shape, y_numpy.shape"
      ],
      "execution_count": 10,
      "outputs": [
        {
          "output_type": "execute_result",
          "data": {
            "text/plain": [
              "((100, 10), (100,))"
            ]
          },
          "metadata": {
            "tags": []
          },
          "execution_count": 10
        }
      ]
    },
    {
      "cell_type": "code",
      "metadata": {
        "colab": {
          "base_uri": "https://localhost:8080/"
        },
        "id": "1-aiHM7uApS3",
        "outputId": "a38ff145-1d1e-494d-b92a-246175027ac3"
      },
      "source": [
        "X_numpy[:5]"
      ],
      "execution_count": 11,
      "outputs": [
        {
          "output_type": "execute_result",
          "data": {
            "text/plain": [
              "array([[ 0.05943278, -1.39305057,  1.39913499,  1.05991603,  0.99302185,\n",
              "        -0.32392025,  0.01373755, -0.39449817,  1.09713425,  1.53002369],\n",
              "       [-0.06954632, -0.98297097, -2.72879706, -0.34465271,  1.01355006,\n",
              "        -0.24649635,  0.61412073,  0.04412067, -1.04948693,  0.45958178],\n",
              "       [ 0.74805119,  1.14819764,  1.7783817 ,  0.95693258, -2.7879091 ,\n",
              "        -0.21273364, -0.12775208,  0.45122724, -0.4264791 ,  0.76069577],\n",
              "       [-1.28460768, -0.08098206, -1.38236082,  1.43110647,  0.73667157,\n",
              "        -0.94354761,  0.90854036,  0.31885187,  0.79247004, -0.96990561],\n",
              "       [ 0.29419801,  0.35225773,  1.66799846, -0.08113937,  1.66972899,\n",
              "         0.29945447, -0.48396097, -0.61140276, -0.83272344,  1.94530297]])"
            ]
          },
          "metadata": {
            "tags": []
          },
          "execution_count": 11
        }
      ]
    },
    {
      "cell_type": "code",
      "metadata": {
        "colab": {
          "base_uri": "https://localhost:8080/"
        },
        "id": "2UQgPf_6AtPV",
        "outputId": "3ef7896c-675a-424f-d63b-8b560450ee6b"
      },
      "source": [
        "y_numpy[:5]"
      ],
      "execution_count": 12,
      "outputs": [
        {
          "output_type": "execute_result",
          "data": {
            "text/plain": [
              "array([1, 0, 1, 0, 1])"
            ]
          },
          "metadata": {
            "tags": []
          },
          "execution_count": 12
        }
      ]
    },
    {
      "cell_type": "code",
      "metadata": {
        "colab": {
          "base_uri": "https://localhost:8080/"
        },
        "id": "v9U-lYu1AwKl",
        "outputId": "48dfe620-515d-448c-bd10-7a4f676ecbf7"
      },
      "source": [
        "values, counts = np.unique(y_numpy, return_counts=True)\n",
        "values, counts"
      ],
      "execution_count": 13,
      "outputs": [
        {
          "output_type": "execute_result",
          "data": {
            "text/plain": [
              "(array([0, 1]), array([70, 30]))"
            ]
          },
          "metadata": {
            "tags": []
          },
          "execution_count": 13
        }
      ]
    },
    {
      "cell_type": "code",
      "metadata": {
        "id": "bi77KLSpx85A"
      },
      "source": [
        "# converting to tensor\n",
        "\n",
        "X = torch.from_numpy(X_numpy.astype(np.float32))\n",
        "y = torch.from_numpy(y_numpy.astype(np.float32))"
      ],
      "execution_count": 14,
      "outputs": []
    },
    {
      "cell_type": "code",
      "metadata": {
        "colab": {
          "base_uri": "https://localhost:8080/"
        },
        "id": "SDEKrVpB3K33",
        "outputId": "2e721718-e872-4f5a-8cf3-6f86dbe43bc6"
      },
      "source": [
        "X.shape, y.shape"
      ],
      "execution_count": 15,
      "outputs": [
        {
          "output_type": "execute_result",
          "data": {
            "text/plain": [
              "(torch.Size([100, 10]), torch.Size([100]))"
            ]
          },
          "metadata": {
            "tags": []
          },
          "execution_count": 15
        }
      ]
    },
    {
      "cell_type": "code",
      "metadata": {
        "colab": {
          "base_uri": "https://localhost:8080/"
        },
        "id": "5_F7v7fZ3hVY",
        "outputId": "4a91f5c9-c0dd-48f7-ef12-0f85ed2984e1"
      },
      "source": [
        "y.shape[0]"
      ],
      "execution_count": 16,
      "outputs": [
        {
          "output_type": "execute_result",
          "data": {
            "text/plain": [
              "100"
            ]
          },
          "metadata": {
            "tags": []
          },
          "execution_count": 16
        }
      ]
    },
    {
      "cell_type": "code",
      "metadata": {
        "colab": {
          "base_uri": "https://localhost:8080/"
        },
        "id": "9nrkWC3y3Nc7",
        "outputId": "8de5b7d3-d486-4115-ef3a-f9034465f81e"
      },
      "source": [
        "# reshaping y\n",
        "\n",
        "y = y.view(y.shape[0], 1)\n",
        "y.shape"
      ],
      "execution_count": 17,
      "outputs": [
        {
          "output_type": "execute_result",
          "data": {
            "text/plain": [
              "torch.Size([100, 1])"
            ]
          },
          "metadata": {
            "tags": []
          },
          "execution_count": 17
        }
      ]
    },
    {
      "cell_type": "code",
      "metadata": {
        "colab": {
          "base_uri": "https://localhost:8080/"
        },
        "id": "oP98g2ou4DCE",
        "outputId": "3d6faa9c-d113-4548-e80c-04e35c1d0149"
      },
      "source": [
        "n_samples, n_features = X.shape\n",
        "n_samples, n_features"
      ],
      "execution_count": 18,
      "outputs": [
        {
          "output_type": "execute_result",
          "data": {
            "text/plain": [
              "(100, 10)"
            ]
          },
          "metadata": {
            "tags": []
          },
          "execution_count": 18
        }
      ]
    },
    {
      "cell_type": "code",
      "metadata": {
        "id": "BfoEd9ox4Nm2"
      },
      "source": [
        "input_size = n_features\n",
        "output_size = 1"
      ],
      "execution_count": 19,
      "outputs": []
    },
    {
      "cell_type": "code",
      "metadata": {
        "id": "0TliCJFBE4Oc"
      },
      "source": [
        "# linear model f = wx + b, sigmoid at end\n",
        "\n",
        "class LogisticRegression(nn.Module):\n",
        "    def __init__(self, n_input_features, n_output_features):\n",
        "        super(LogisticRegression, self).__init__()\n",
        "        self.linear = nn.Linear(n_input_features, n_output_features)\n",
        "\n",
        "    def forward(self, x):\n",
        "        y_pred = torch.sigmoid(self.linear(x))\n",
        "        return y_pred\n",
        "\n",
        "model = LogisticRegression(input_size, output_size)"
      ],
      "execution_count": 20,
      "outputs": []
    },
    {
      "cell_type": "code",
      "metadata": {
        "id": "_OyTuphL4jgU"
      },
      "source": [
        "# loss and optimizer\n",
        "\n",
        "learning_rate = 0.01\n",
        "\n",
        "loss_func = nn.BCELoss()                # binary cross entropy\n",
        "optimizer = torch.optim.SGD(model.parameters(), lr=learning_rate)  "
      ],
      "execution_count": 21,
      "outputs": []
    },
    {
      "cell_type": "code",
      "metadata": {
        "colab": {
          "base_uri": "https://localhost:8080/"
        },
        "id": "PI5HLCGH6A0v",
        "outputId": "55671a8f-2207-408d-f54b-be20de83de3c"
      },
      "source": [
        "# training loop\n",
        "\n",
        "num_epochs = 200\n",
        "for epoch in range(num_epochs):\n",
        "\n",
        "    # forward pass and loss\n",
        "    y_hat = model(X)\n",
        "    loss = loss_func(y_hat, y)                  # loss_func is an object used as a function\n",
        "    \n",
        "    # backward pass and update\n",
        "    loss.backward()\n",
        "    optimizer.step()\n",
        "\n",
        "    # zero grad before new step\n",
        "    optimizer.zero_grad()                       # dy_hat/dw = 0 after every epoch\n",
        "\n",
        "    if (epoch+1) % 10 == 0:\n",
        "        print(f'epoch: {epoch+1}, loss = {loss.item():.4f}')"
      ],
      "execution_count": 22,
      "outputs": [
        {
          "output_type": "stream",
          "text": [
            "epoch: 10, loss = 0.6340\n",
            "epoch: 20, loss = 0.6057\n",
            "epoch: 30, loss = 0.5800\n",
            "epoch: 40, loss = 0.5566\n",
            "epoch: 50, loss = 0.5354\n",
            "epoch: 60, loss = 0.5161\n",
            "epoch: 70, loss = 0.4984\n",
            "epoch: 80, loss = 0.4822\n",
            "epoch: 90, loss = 0.4674\n",
            "epoch: 100, loss = 0.4538\n",
            "epoch: 110, loss = 0.4412\n",
            "epoch: 120, loss = 0.4296\n",
            "epoch: 130, loss = 0.4188\n",
            "epoch: 140, loss = 0.4088\n",
            "epoch: 150, loss = 0.3995\n",
            "epoch: 160, loss = 0.3909\n",
            "epoch: 170, loss = 0.3828\n",
            "epoch: 180, loss = 0.3751\n",
            "epoch: 190, loss = 0.3680\n",
            "epoch: 200, loss = 0.3613\n"
          ],
          "name": "stdout"
        }
      ]
    },
    {
      "cell_type": "code",
      "metadata": {
        "colab": {
          "base_uri": "https://localhost:8080/"
        },
        "id": "ycM2nqmQVMys",
        "outputId": "382346cf-3019-4dcb-b091-4afd15b7f751"
      },
      "source": [
        "with torch.no_grad():\n",
        "    y_predicted = model(X)\n",
        "    y_predicted_cls = y_predicted.round()\n",
        "    acc = y_predicted_cls.eq(y).sum() / float(y.shape[0])\n",
        "    print(f'accuracy: {acc.item():.4f}')"
      ],
      "execution_count": 23,
      "outputs": [
        {
          "output_type": "stream",
          "text": [
            "accuracy: 0.9000\n"
          ],
          "name": "stdout"
        }
      ]
    },
    {
      "cell_type": "code",
      "metadata": {
        "colab": {
          "base_uri": "https://localhost:8080/"
        },
        "id": "cyj4CXQE9UVG",
        "outputId": "86e7aa50-5891-4bf9-da65-9c464981bfb5"
      },
      "source": [
        "y_predicted[:10]"
      ],
      "execution_count": 24,
      "outputs": [
        {
          "output_type": "execute_result",
          "data": {
            "text/plain": [
              "tensor([[0.7490],\n",
              "        [0.0794],\n",
              "        [0.6481],\n",
              "        [0.1446],\n",
              "        [0.8042],\n",
              "        [0.1816],\n",
              "        [0.5647],\n",
              "        [0.2000],\n",
              "        [0.2437],\n",
              "        [0.5848]])"
            ]
          },
          "metadata": {
            "tags": []
          },
          "execution_count": 24
        }
      ]
    },
    {
      "cell_type": "code",
      "metadata": {
        "colab": {
          "base_uri": "https://localhost:8080/"
        },
        "id": "3kNsruwQ9ct7",
        "outputId": "f79ca65c-3c18-4261-fb2c-349205af1118"
      },
      "source": [
        "y_predicted_cls[:10]"
      ],
      "execution_count": 25,
      "outputs": [
        {
          "output_type": "execute_result",
          "data": {
            "text/plain": [
              "tensor([[1.],\n",
              "        [0.],\n",
              "        [1.],\n",
              "        [0.],\n",
              "        [1.],\n",
              "        [0.],\n",
              "        [1.],\n",
              "        [0.],\n",
              "        [0.],\n",
              "        [1.]])"
            ]
          },
          "metadata": {
            "tags": []
          },
          "execution_count": 25
        }
      ]
    },
    {
      "cell_type": "code",
      "metadata": {
        "colab": {
          "base_uri": "https://localhost:8080/"
        },
        "id": "fvzaY9wR9mEr",
        "outputId": "79b2e103-056e-48f1-f557-fa9dc962051c"
      },
      "source": [
        "y[:10]"
      ],
      "execution_count": 26,
      "outputs": [
        {
          "output_type": "execute_result",
          "data": {
            "text/plain": [
              "tensor([[1.],\n",
              "        [0.],\n",
              "        [1.],\n",
              "        [0.],\n",
              "        [1.],\n",
              "        [0.],\n",
              "        [1.],\n",
              "        [0.],\n",
              "        [0.],\n",
              "        [1.]])"
            ]
          },
          "metadata": {
            "tags": []
          },
          "execution_count": 26
        }
      ]
    }
  ]
}