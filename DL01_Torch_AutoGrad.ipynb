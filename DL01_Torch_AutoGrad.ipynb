{
  "nbformat": 4,
  "nbformat_minor": 0,
  "metadata": {
    "colab": {
      "name": "DL01_Torch_AutoGrad.ipynb",
      "provenance": [],
      "collapsed_sections": [],
      "toc_visible": true
    },
    "kernelspec": {
      "name": "python3",
      "display_name": "Python 3"
    },
    "language_info": {
      "name": "python"
    },
    "accelerator": "GPU"
  },
  "cells": [
    {
      "cell_type": "markdown",
      "metadata": {
        "id": "0JVxVBUYs5kr"
      },
      "source": [
        "## PyTorch Basics"
      ]
    },
    {
      "cell_type": "code",
      "metadata": {
        "id": "yIE0yrvpryWm"
      },
      "source": [
        "import torch    # pytorch library\n",
        "import numpy as np"
      ],
      "execution_count": 1,
      "outputs": []
    },
    {
      "cell_type": "code",
      "metadata": {
        "colab": {
          "base_uri": "https://localhost:8080/"
        },
        "id": "-vagZLiYCLCx",
        "outputId": "0db898c1-a2ab-4689-bf1b-e0ec36572686"
      },
      "source": [
        "# torch.tensor is a function which returns a tensor\n",
        "# will infer datatype from data\n",
        "\n",
        "torch.tensor([2])"
      ],
      "execution_count": 2,
      "outputs": [
        {
          "output_type": "execute_result",
          "data": {
            "text/plain": [
              "tensor([2])"
            ]
          },
          "metadata": {
            "tags": []
          },
          "execution_count": 2
        }
      ]
    },
    {
      "cell_type": "code",
      "metadata": {
        "colab": {
          "base_uri": "https://localhost:8080/"
        },
        "id": "8dzRrdJtCQn3",
        "outputId": "2e22fd3a-5722-4ffb-d845-bc7063cca93a"
      },
      "source": [
        "# same as above with slight difference\n",
        "# torch.Tensor is the main tensor class\n",
        "# will initialize to default type - float32\n",
        "\n",
        "torch.Tensor([2])"
      ],
      "execution_count": 3,
      "outputs": [
        {
          "output_type": "execute_result",
          "data": {
            "text/plain": [
              "tensor([2.])"
            ]
          },
          "metadata": {
            "tags": []
          },
          "execution_count": 3
        }
      ]
    },
    {
      "cell_type": "code",
      "metadata": {
        "colab": {
          "base_uri": "https://localhost:8080/"
        },
        "id": "lrFsId2PCUTW",
        "outputId": "d5c80196-fc9a-42cb-fec7-da8f8af422cd"
      },
      "source": [
        "torch.tensor(2)"
      ],
      "execution_count": 4,
      "outputs": [
        {
          "output_type": "execute_result",
          "data": {
            "text/plain": [
              "tensor(2)"
            ]
          },
          "metadata": {
            "tags": []
          },
          "execution_count": 4
        }
      ]
    },
    {
      "cell_type": "code",
      "metadata": {
        "colab": {
          "base_uri": "https://localhost:8080/"
        },
        "id": "HessFT2qCYUR",
        "outputId": "d4aa5067-fd23-4aa8-b2cb-0422bf36a5fe"
      },
      "source": [
        "torch.Tensor(2)"
      ],
      "execution_count": 5,
      "outputs": [
        {
          "output_type": "execute_result",
          "data": {
            "text/plain": [
              "tensor([-8.0606e-30,  3.0693e-41])"
            ]
          },
          "metadata": {
            "tags": []
          },
          "execution_count": 5
        }
      ]
    },
    {
      "cell_type": "code",
      "metadata": {
        "colab": {
          "base_uri": "https://localhost:8080/"
        },
        "id": "1hOYQzcnveoW",
        "outputId": "176ed446-6dd2-4e00-df18-a3033219023f"
      },
      "source": [
        "x = torch.Tensor([2])\n",
        "print(x)\n",
        "print(type(x))"
      ],
      "execution_count": 6,
      "outputs": [
        {
          "output_type": "stream",
          "text": [
            "tensor([2.])\n",
            "<class 'torch.Tensor'>\n"
          ],
          "name": "stdout"
        }
      ]
    },
    {
      "cell_type": "code",
      "metadata": {
        "colab": {
          "base_uri": "https://localhost:8080/"
        },
        "id": "F4Qqqhc7vmIU",
        "outputId": "20ecf698-de51-4bd4-fe98-507e48cbb76b"
      },
      "source": [
        "y = torch.tensor(3.)\n",
        "print(y)\n",
        "print(type(y))"
      ],
      "execution_count": 7,
      "outputs": [
        {
          "output_type": "stream",
          "text": [
            "tensor(3.)\n",
            "<class 'torch.Tensor'>\n"
          ],
          "name": "stdout"
        }
      ]
    },
    {
      "cell_type": "code",
      "metadata": {
        "colab": {
          "base_uri": "https://localhost:8080/"
        },
        "id": "V9aXmvhKr5Lt",
        "outputId": "e497737a-e5af-4400-8769-6f51361403ea"
      },
      "source": [
        "x = torch.Tensor([2,3])   # passing python list\n",
        "y = torch.Tensor([4,5])\n",
        "\n",
        "print(x*y)"
      ],
      "execution_count": 8,
      "outputs": [
        {
          "output_type": "stream",
          "text": [
            "tensor([ 8., 15.])\n"
          ],
          "name": "stdout"
        }
      ]
    },
    {
      "cell_type": "code",
      "metadata": {
        "colab": {
          "base_uri": "https://localhost:8080/"
        },
        "id": "6ldTi0getsam",
        "outputId": "f009e150-bc34-4dd9-8e71-2e493dfa38e7"
      },
      "source": [
        "x = torch.Tensor([2,3])\n",
        "y = torch.Tensor([4,5])\n",
        "\n",
        "print(torch.mul(x,y))"
      ],
      "execution_count": 9,
      "outputs": [
        {
          "output_type": "stream",
          "text": [
            "tensor([ 8., 15.])\n"
          ],
          "name": "stdout"
        }
      ]
    },
    {
      "cell_type": "code",
      "metadata": {
        "colab": {
          "base_uri": "https://localhost:8080/"
        },
        "id": "ll1X55DpsEb0",
        "outputId": "fc1eb826-88b4-44ef-8f1f-73a3bfe0183e"
      },
      "source": [
        "x = torch.zeros([2,3])\n",
        "print(x)\n",
        "print(x.shape)"
      ],
      "execution_count": 10,
      "outputs": [
        {
          "output_type": "stream",
          "text": [
            "tensor([[0., 0., 0.],\n",
            "        [0., 0., 0.]])\n",
            "torch.Size([2, 3])\n"
          ],
          "name": "stdout"
        }
      ]
    },
    {
      "cell_type": "code",
      "metadata": {
        "colab": {
          "base_uri": "https://localhost:8080/"
        },
        "id": "dpr7LqtEsL0U",
        "outputId": "51f46148-a02e-418a-8143-e4fe8794510d"
      },
      "source": [
        "y = torch.rand([3,4])\n",
        "y"
      ],
      "execution_count": 11,
      "outputs": [
        {
          "output_type": "execute_result",
          "data": {
            "text/plain": [
              "tensor([[0.2002, 0.8856, 0.0617, 0.2418],\n",
              "        [0.6024, 0.9803, 0.1704, 0.5947],\n",
              "        [0.0665, 0.1776, 0.3001, 0.9500]])"
            ]
          },
          "metadata": {
            "tags": []
          },
          "execution_count": 11
        }
      ]
    },
    {
      "cell_type": "code",
      "metadata": {
        "colab": {
          "base_uri": "https://localhost:8080/"
        },
        "id": "dqN4GfnvCiaP",
        "outputId": "8454e967-aee3-4478-e872-9569d98da36f"
      },
      "source": [
        "y[:,0]      # showing 1st colm only"
      ],
      "execution_count": 12,
      "outputs": [
        {
          "output_type": "execute_result",
          "data": {
            "text/plain": [
              "tensor([0.2002, 0.6024, 0.0665])"
            ]
          },
          "metadata": {
            "tags": []
          },
          "execution_count": 12
        }
      ]
    },
    {
      "cell_type": "code",
      "metadata": {
        "colab": {
          "base_uri": "https://localhost:8080/"
        },
        "id": "UstGGG8MsgWa",
        "outputId": "e7bd3431-f041-444e-e3f4-5e12b8aab787"
      },
      "source": [
        "y.view([2,6])       # same as transform"
      ],
      "execution_count": 13,
      "outputs": [
        {
          "output_type": "execute_result",
          "data": {
            "text/plain": [
              "tensor([[0.2002, 0.8856, 0.0617, 0.2418, 0.6024, 0.9803],\n",
              "        [0.1704, 0.5947, 0.0665, 0.1776, 0.3001, 0.9500]])"
            ]
          },
          "metadata": {
            "tags": []
          },
          "execution_count": 13
        }
      ]
    },
    {
      "cell_type": "code",
      "metadata": {
        "colab": {
          "base_uri": "https://localhost:8080/"
        },
        "id": "77j3qSfoUK_W",
        "outputId": "03575b0f-9628-483c-d6b4-ff712d22e421"
      },
      "source": [
        "y.view([-1,3])       # -1 automatically fills instead of 4"
      ],
      "execution_count": 14,
      "outputs": [
        {
          "output_type": "execute_result",
          "data": {
            "text/plain": [
              "tensor([[0.2002, 0.8856, 0.0617],\n",
              "        [0.2418, 0.6024, 0.9803],\n",
              "        [0.1704, 0.5947, 0.0665],\n",
              "        [0.1776, 0.3001, 0.9500]])"
            ]
          },
          "metadata": {
            "tags": []
          },
          "execution_count": 14
        }
      ]
    },
    {
      "cell_type": "code",
      "metadata": {
        "colab": {
          "base_uri": "https://localhost:8080/"
        },
        "id": "jWgekR9GsobL",
        "outputId": "8ddf4e5c-1a39-4292-ff91-b622f13c4f67"
      },
      "source": [
        "x = torch.empty(1) # scalar\n",
        "print(x)"
      ],
      "execution_count": 15,
      "outputs": [
        {
          "output_type": "stream",
          "text": [
            "tensor([-8.0607e-30])\n"
          ],
          "name": "stdout"
        }
      ]
    },
    {
      "cell_type": "code",
      "metadata": {
        "colab": {
          "base_uri": "https://localhost:8080/"
        },
        "id": "deh0xekls2St",
        "outputId": "8f522daf-9931-40a6-92b0-93c4635a9bb7"
      },
      "source": [
        "x = torch.empty(3) # vector, 1D\n",
        "print(x)"
      ],
      "execution_count": 16,
      "outputs": [
        {
          "output_type": "stream",
          "text": [
            "tensor([-8.0608e-30,  3.0693e-41,  2.3694e-38])\n"
          ],
          "name": "stdout"
        }
      ]
    },
    {
      "cell_type": "code",
      "metadata": {
        "colab": {
          "base_uri": "https://localhost:8080/"
        },
        "id": "ZpWeES3Zs34I",
        "outputId": "4b229842-e8b5-4ada-8d37-ff0db2d14f6a"
      },
      "source": [
        "x = torch.empty(2,3) # matrix, 2D\n",
        "print(x)"
      ],
      "execution_count": 17,
      "outputs": [
        {
          "output_type": "stream",
          "text": [
            "tensor([[-8.0608e-30,  3.0693e-41, -5.1592e-33],\n",
            "        [ 3.0693e-41,  3.3631e-44,  0.0000e+00]])\n"
          ],
          "name": "stdout"
        }
      ]
    },
    {
      "cell_type": "code",
      "metadata": {
        "colab": {
          "base_uri": "https://localhost:8080/"
        },
        "id": "hEcC7dXvtXYZ",
        "outputId": "015752f2-ae15-45fe-a199-3992236a953c"
      },
      "source": [
        "x = torch.empty(2,2,3) # tensor, 3D\n",
        "print(x)"
      ],
      "execution_count": 18,
      "outputs": [
        {
          "output_type": "stream",
          "text": [
            "tensor([[[-8.0607e-30,  3.0693e-41,  2.3694e-38],\n",
            "         [ 0.0000e+00,  0.0000e+00,  0.0000e+00]],\n",
            "\n",
            "        [[ 1.1578e+27,  1.1362e+30,  7.1547e+22],\n",
            "         [ 4.5828e+30,  1.2121e+04,  7.1846e+22]]])\n"
          ],
          "name": "stdout"
        }
      ]
    },
    {
      "cell_type": "code",
      "metadata": {
        "colab": {
          "base_uri": "https://localhost:8080/"
        },
        "id": "V6OvzGa6U1Fm",
        "outputId": "84b010dd-eb03-4cbb-b040-0ec8d3249852"
      },
      "source": [
        "# converting from numpy array to tensor\n",
        "\n",
        "a = np.ones(5)\n",
        "print(a)\n",
        "b = torch.from_numpy(a)\n",
        "print(b)"
      ],
      "execution_count": 19,
      "outputs": [
        {
          "output_type": "stream",
          "text": [
            "[1. 1. 1. 1. 1.]\n",
            "tensor([1., 1., 1., 1., 1.], dtype=torch.float64)\n"
          ],
          "name": "stdout"
        }
      ]
    },
    {
      "cell_type": "code",
      "metadata": {
        "id": "g80khYYYVs_Q",
        "colab": {
          "base_uri": "https://localhost:8080/"
        },
        "outputId": "285b18af-d026-412d-8ce4-5aa13cdf1ec0"
      },
      "source": [
        "# NumPy doesn't natively support GPUs\n",
        "# by default all tensors are created on the CPU,\n",
        "# but you can also move them to the GPU (only if it's available )\n",
        "\n",
        "if torch.cuda.is_available():               # if gpu is available\n",
        "    device = torch.device(\"cuda\")           # a CUDA device object\n",
        "    y = torch.ones([2,3], device=device)    # directly create a tensor on GPU\n",
        "    x = torch.ones([2,3])\n",
        "    x = x.to(device)                        # or just use .to(\"cuda\")\n",
        "    z = x + y\n",
        "    print(z)\n",
        "    # z = z.numpy() # not possible because numpy cannot handle GPU tenors\n",
        "    # move to CPU again\n",
        "    print(z.to(\"cpu\")) \n",
        "\n",
        "else:\n",
        "  print('No GPU')"
      ],
      "execution_count": 20,
      "outputs": [
        {
          "output_type": "stream",
          "text": [
            "tensor([[2., 2., 2.],\n",
            "        [2., 2., 2.]], device='cuda:0')\n",
            "tensor([[2., 2., 2.],\n",
            "        [2., 2., 2.]])\n"
          ],
          "name": "stdout"
        }
      ]
    },
    {
      "cell_type": "markdown",
      "metadata": {
        "id": "09R26RYsg3Hc"
      },
      "source": [
        "## Auto Grad / Back Propagation"
      ]
    },
    {
      "cell_type": "code",
      "metadata": {
        "colab": {
          "base_uri": "https://localhost:8080/"
        },
        "id": "o7gJJBNYg2YC",
        "outputId": "1d770d62-ac99-4004-dcd4-72503989e92a"
      },
      "source": [
        "torch.tensor([5.5, 3])"
      ],
      "execution_count": 21,
      "outputs": [
        {
          "output_type": "execute_result",
          "data": {
            "text/plain": [
              "tensor([5.5000, 3.0000])"
            ]
          },
          "metadata": {
            "tags": []
          },
          "execution_count": 21
        }
      ]
    },
    {
      "cell_type": "code",
      "metadata": {
        "colab": {
          "base_uri": "https://localhost:8080/"
        },
        "id": "EKjKUyRJtbSc",
        "outputId": "a45adf39-ecdd-4b5c-d299-6c2d432ab1eb"
      },
      "source": [
        "# requires_grad argument\n",
        "# This will tell pytorch that it will need to calculate the gradients for this tensor\n",
        "# later in your optimization steps\n",
        "# i.e. this is a variable in your model that you want to optimize\n",
        "\n",
        "x = torch.tensor([5.5, 3], requires_grad=True)\n",
        "print(x)"
      ],
      "execution_count": 22,
      "outputs": [
        {
          "output_type": "stream",
          "text": [
            "tensor([5.5000, 3.0000], requires_grad=True)\n"
          ],
          "name": "stdout"
        }
      ]
    },
    {
      "cell_type": "code",
      "metadata": {
        "colab": {
          "base_uri": "https://localhost:8080/"
        },
        "id": "1kQzrv2thEIN",
        "outputId": "e433d64e-3fbe-472a-dd12-2ccece86595c"
      },
      "source": [
        "x[0]"
      ],
      "execution_count": 23,
      "outputs": [
        {
          "output_type": "execute_result",
          "data": {
            "text/plain": [
              "tensor(5.5000, grad_fn=<SelectBackward>)"
            ]
          },
          "metadata": {
            "tags": []
          },
          "execution_count": 23
        }
      ]
    },
    {
      "cell_type": "code",
      "metadata": {
        "colab": {
          "base_uri": "https://localhost:8080/"
        },
        "id": "3q4zR6bhtzWd",
        "outputId": "f484ebfb-92fa-419d-a57e-c0ae6b69cd87"
      },
      "source": [
        "# all 3 are tensors, with w and b having additional parameter\n",
        "\n",
        "x = torch.tensor(3.)\n",
        "w = torch.tensor(4., requires_grad=True)\n",
        "b = torch.tensor(5., requires_grad=True)\n",
        "\n",
        "print(x)\n",
        "print(w)\n",
        "print(b)\n",
        "\n",
        "y = w*x+b       # (4x3)+5\n",
        "\n",
        "print(y)"
      ],
      "execution_count": 24,
      "outputs": [
        {
          "output_type": "stream",
          "text": [
            "tensor(3.)\n",
            "tensor(4., requires_grad=True)\n",
            "tensor(5., requires_grad=True)\n",
            "tensor(17., grad_fn=<AddBackward0>)\n"
          ],
          "name": "stdout"
        }
      ]
    },
    {
      "cell_type": "code",
      "metadata": {
        "colab": {
          "base_uri": "https://localhost:8080/"
        },
        "id": "9oeNjt4vwawi",
        "outputId": "a91c1c62-1281-48bc-8589-83c790541b81"
      },
      "source": [
        "print('dy/dx', x.grad)\n",
        "print('dy/dw', w.grad)\n",
        "print('dy/db', b.grad)"
      ],
      "execution_count": 25,
      "outputs": [
        {
          "output_type": "stream",
          "text": [
            "dy/dx None\n",
            "dy/dw None\n",
            "dy/db None\n"
          ],
          "name": "stdout"
        }
      ]
    },
    {
      "cell_type": "code",
      "metadata": {
        "colab": {
          "base_uri": "https://localhost:8080/"
        },
        "id": "xzyd-lF6wXX8",
        "outputId": "063961ed-3af4-4f9c-f3d9-98a44c9299f0"
      },
      "source": [
        "# calling below function is necessary to get gradient values\n",
        "y.backward()    # computing derivatives / gradient\n",
        "\n",
        "print('dy/dx', x.grad)\n",
        "print('dy/dw', w.grad)\n",
        "print('dy/db', b.grad)\n",
        "\n",
        "# can cross check below answers by doing manually"
      ],
      "execution_count": 26,
      "outputs": [
        {
          "output_type": "stream",
          "text": [
            "dy/dx None\n",
            "dy/dw tensor(3.)\n",
            "dy/db tensor(1.)\n"
          ],
          "name": "stdout"
        }
      ]
    },
    {
      "cell_type": "code",
      "metadata": {
        "colab": {
          "base_uri": "https://localhost:8080/"
        },
        "id": "9YgH--hCjXkw",
        "outputId": "e931d5e4-bc48-4428-9c49-b488bf5fab25"
      },
      "source": [
        "weights = torch.tensor([1,2,3,4], dtype=torch.float32, requires_grad=True)\n",
        "print(weights)\n",
        "\n",
        "for epoch in range(3):\n",
        "    print()\n",
        "    print('Loop: ', epoch)\n",
        "    model_output = (weights*3).sum()\n",
        "    print(model_output)\n",
        "\n",
        "    model_output.backward()\n",
        "    print(weights.grad)                 # d(model_output)/d(weights) = 3\n",
        "\n",
        "    # update weights\n",
        "    with torch.no_grad():               # deactivates autograd engine for fast computations\n",
        "        weights -= 0.1 * weights.grad\n",
        "\n",
        "    weights.grad.zero_()\n",
        "    print(weights)\n",
        "\n",
        "print()\n",
        "print(weights)\n",
        "print(model_output)"
      ],
      "execution_count": 8,
      "outputs": [
        {
          "output_type": "stream",
          "text": [
            "tensor([1., 2., 3., 4.], requires_grad=True)\n",
            "\n",
            "Loop:  0\n",
            "tensor(30., grad_fn=<SumBackward0>)\n",
            "tensor([3., 3., 3., 3.])\n",
            "tensor([0.7000, 1.7000, 2.7000, 3.7000], requires_grad=True)\n",
            "\n",
            "Loop:  1\n",
            "tensor(26.4000, grad_fn=<SumBackward0>)\n",
            "tensor([3., 3., 3., 3.])\n",
            "tensor([0.4000, 1.4000, 2.4000, 3.4000], requires_grad=True)\n",
            "\n",
            "Loop:  2\n",
            "tensor(22.8000, grad_fn=<SumBackward0>)\n",
            "tensor([3., 3., 3., 3.])\n",
            "tensor([0.1000, 1.1000, 2.1000, 3.1000], requires_grad=True)\n",
            "\n",
            "tensor([0.1000, 1.1000, 2.1000, 3.1000], requires_grad=True)\n",
            "tensor(22.8000, grad_fn=<SumBackward0>)\n"
          ],
          "name": "stdout"
        }
      ]
    },
    {
      "cell_type": "code",
      "metadata": {
        "colab": {
          "base_uri": "https://localhost:8080/"
        },
        "id": "Bw2AClSOu4V9",
        "outputId": "82beaed7-13f7-4ecb-ee09-3d6bfc2f9a8f"
      },
      "source": [
        "weights = torch.tensor([1,2,3,4], dtype=torch.float32, requires_grad=True)\n",
        "print(weights)\n",
        "\n",
        "for epoch in range(3):\n",
        "    print()\n",
        "    print('Loop: ', epoch)\n",
        "    model_output = (weights*3).sum()\n",
        "    print(model_output)\n",
        "\n",
        "    model_output.backward()\n",
        "    print(weights.grad)               \n",
        "\n",
        "    # update weights\n",
        "    with torch.no_grad():             \n",
        "        weights -= 0.1 * weights.grad\n",
        "\n",
        "    #weights.grad.zero_()                 # this is commented, to make d(model_output)/d(weights) = 0 after every loop\n",
        "    print(weights)\n",
        "\n",
        "print()\n",
        "print(weights)\n",
        "print(model_output)"
      ],
      "execution_count": 9,
      "outputs": [
        {
          "output_type": "stream",
          "text": [
            "tensor([1., 2., 3., 4.], requires_grad=True)\n",
            "\n",
            "Loop:  0\n",
            "tensor(30., grad_fn=<SumBackward0>)\n",
            "tensor([3., 3., 3., 3.])\n",
            "tensor([0.7000, 1.7000, 2.7000, 3.7000], requires_grad=True)\n",
            "\n",
            "Loop:  1\n",
            "tensor(26.4000, grad_fn=<SumBackward0>)\n",
            "tensor([6., 6., 6., 6.])\n",
            "tensor([0.1000, 1.1000, 2.1000, 3.1000], requires_grad=True)\n",
            "\n",
            "Loop:  2\n",
            "tensor(19.2000, grad_fn=<SumBackward0>)\n",
            "tensor([9., 9., 9., 9.])\n",
            "tensor([-0.8000,  0.2000,  1.2000,  2.2000], requires_grad=True)\n",
            "\n",
            "tensor([-0.8000,  0.2000,  1.2000,  2.2000], requires_grad=True)\n",
            "tensor(19.2000, grad_fn=<SumBackward0>)\n"
          ],
          "name": "stdout"
        }
      ]
    },
    {
      "cell_type": "code",
      "metadata": {
        "colab": {
          "base_uri": "https://localhost:8080/"
        },
        "id": "Hj04dYHQtx1l",
        "outputId": "b2b3ed63-cafe-4b34-d7b7-8f52a7764d99"
      },
      "source": [
        "weights = torch.tensor([1,2,3,4], dtype=torch.float32, requires_grad=True)\n",
        "x = weights*3\n",
        "x"
      ],
      "execution_count": 4,
      "outputs": [
        {
          "output_type": "execute_result",
          "data": {
            "text/plain": [
              "tensor([ 3.,  6.,  9., 12.], grad_fn=<MulBackward0>)"
            ]
          },
          "metadata": {
            "tags": []
          },
          "execution_count": 4
        }
      ]
    },
    {
      "cell_type": "code",
      "metadata": {
        "colab": {
          "base_uri": "https://localhost:8080/"
        },
        "id": "zCohcJY3Qvij",
        "outputId": "c96d215d-5439-4c16-e19a-0005a87838d2"
      },
      "source": [
        "x = torch.tensor(1.0)\n",
        "y = torch.tensor(2.0)\n",
        "\n",
        "# we want to optimize this w (weight)\n",
        "w = torch.tensor(1.0, requires_grad=True)\n",
        "\n",
        "\n",
        "# forward pass to compute loss\n",
        "y_predicted = w * x\n",
        "loss = (y_predicted - y)**2\n",
        "print(loss)                     # loss = (wx - y)^2 = (wx)^2 + y^2 - 2wxy = 1\n",
        "\n",
        "\n",
        "# backward pass to compute gradient\n",
        "loss.backward()\n",
        "print(w.grad)                   # d(Loss)/dw = 2w(x)^2 - 2xy = -2\n",
        "\n",
        "\n",
        "# update weights, this operation should not be part of the computational graph\n",
        "with torch.no_grad():           # deactivates autograd engine for fast computations\n",
        "    w -= 0.01 * w.grad\n",
        "\n",
        "\n",
        "# zero the gradients\n",
        "w.grad.zero_()\n",
        "\n",
        "print(w.grad) \n",
        "print(w)"
      ],
      "execution_count": 28,
      "outputs": [
        {
          "output_type": "stream",
          "text": [
            "tensor(1., grad_fn=<PowBackward0>)\n",
            "tensor(-2.)\n",
            "tensor(0.)\n",
            "tensor(1.0200, requires_grad=True)\n"
          ],
          "name": "stdout"
        }
      ]
    }
  ]
}