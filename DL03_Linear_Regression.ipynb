{
  "nbformat": 4,
  "nbformat_minor": 0,
  "metadata": {
    "colab": {
      "name": "DL03_Linear_Regression.ipynb",
      "provenance": [],
      "collapsed_sections": []
    },
    "kernelspec": {
      "name": "python3",
      "display_name": "Python 3"
    },
    "language_info": {
      "name": "python"
    }
  },
  "cells": [
    {
      "cell_type": "code",
      "metadata": {
        "id": "Un1S-J4kbbpt"
      },
      "source": [
        "import torch\n",
        "import torch.nn as nn\n",
        "import numpy as np\n",
        "from sklearn import datasets\n",
        "import matplotlib.pyplot as plt"
      ],
      "execution_count": 1,
      "outputs": []
    },
    {
      "cell_type": "code",
      "metadata": {
        "id": "LpLrDAx3bjeu"
      },
      "source": [
        "# preparing data\n",
        "# adding noise means that the network is less able to memorize training samples\n",
        "\n",
        "X_numpy, y_numpy = datasets.make_regression(n_samples=100, n_features=1, noise=20, random_state=4)"
      ],
      "execution_count": 2,
      "outputs": []
    },
    {
      "cell_type": "code",
      "metadata": {
        "colab": {
          "base_uri": "https://localhost:8080/"
        },
        "id": "xTkhY8-T3GpW",
        "outputId": "8960534f-e37a-4b32-b6b1-7fb82566ec35"
      },
      "source": [
        "X_numpy.shape, y_numpy.shape"
      ],
      "execution_count": 3,
      "outputs": [
        {
          "output_type": "execute_result",
          "data": {
            "text/plain": [
              "((100, 1), (100,))"
            ]
          },
          "metadata": {
            "tags": []
          },
          "execution_count": 3
        }
      ]
    },
    {
      "cell_type": "code",
      "metadata": {
        "id": "bi77KLSpx85A"
      },
      "source": [
        "# converting to tensor\n",
        "\n",
        "X = torch.from_numpy(X_numpy.astype(np.float32))\n",
        "y = torch.from_numpy(y_numpy.astype(np.float32))"
      ],
      "execution_count": 26,
      "outputs": []
    },
    {
      "cell_type": "code",
      "metadata": {
        "colab": {
          "base_uri": "https://localhost:8080/"
        },
        "id": "SDEKrVpB3K33",
        "outputId": "efcfdfc4-0778-4ad8-a76c-32bbe616c7e4"
      },
      "source": [
        "X.shape, y.shape"
      ],
      "execution_count": 27,
      "outputs": [
        {
          "output_type": "execute_result",
          "data": {
            "text/plain": [
              "(torch.Size([100, 1]), torch.Size([100]))"
            ]
          },
          "metadata": {
            "tags": []
          },
          "execution_count": 27
        }
      ]
    },
    {
      "cell_type": "code",
      "metadata": {
        "colab": {
          "base_uri": "https://localhost:8080/"
        },
        "id": "5_F7v7fZ3hVY",
        "outputId": "f1e849ea-1952-4125-f8f0-339ddb90dfd5"
      },
      "source": [
        "y.shape[0]"
      ],
      "execution_count": 28,
      "outputs": [
        {
          "output_type": "execute_result",
          "data": {
            "text/plain": [
              "100"
            ]
          },
          "metadata": {
            "tags": []
          },
          "execution_count": 28
        }
      ]
    },
    {
      "cell_type": "code",
      "metadata": {
        "colab": {
          "base_uri": "https://localhost:8080/"
        },
        "id": "9nrkWC3y3Nc7",
        "outputId": "6dcb4297-2535-46ab-d949-8f610c96d117"
      },
      "source": [
        "# reshaping y\n",
        "\n",
        "y = y.view(y.shape[0], 1)\n",
        "y.shape"
      ],
      "execution_count": 29,
      "outputs": [
        {
          "output_type": "execute_result",
          "data": {
            "text/plain": [
              "torch.Size([100, 1])"
            ]
          },
          "metadata": {
            "tags": []
          },
          "execution_count": 29
        }
      ]
    },
    {
      "cell_type": "code",
      "metadata": {
        "colab": {
          "base_uri": "https://localhost:8080/"
        },
        "id": "oP98g2ou4DCE",
        "outputId": "c11331b2-a034-483a-a1e0-2570951ab21a"
      },
      "source": [
        "n_samples, n_features = X.shape\n",
        "n_samples, n_features"
      ],
      "execution_count": 30,
      "outputs": [
        {
          "output_type": "execute_result",
          "data": {
            "text/plain": [
              "(100, 1)"
            ]
          },
          "metadata": {
            "tags": []
          },
          "execution_count": 30
        }
      ]
    },
    {
      "cell_type": "code",
      "metadata": {
        "id": "BfoEd9ox4Nm2"
      },
      "source": [
        "# linear model f = wx + b\n",
        "\n",
        "input_size = n_features\n",
        "output_size = 1\n",
        "\n",
        "model = nn.Linear(input_size, output_size)"
      ],
      "execution_count": 31,
      "outputs": []
    },
    {
      "cell_type": "code",
      "metadata": {
        "id": "_OyTuphL4jgU"
      },
      "source": [
        "# loss and optimizer\n",
        "\n",
        "learning_rate = 0.01\n",
        "\n",
        "loss_func = nn.MSELoss()\n",
        "optimizer = torch.optim.SGD(model.parameters(), lr=learning_rate)  "
      ],
      "execution_count": 32,
      "outputs": []
    },
    {
      "cell_type": "code",
      "metadata": {
        "colab": {
          "base_uri": "https://localhost:8080/"
        },
        "id": "PI5HLCGH6A0v",
        "outputId": "6900c96a-26fb-49d0-a1fd-0607a9e21bcd"
      },
      "source": [
        "# training loop\n",
        "\n",
        "num_epochs = 200\n",
        "for epoch in range(num_epochs):\n",
        "\n",
        "    # forward pass and loss\n",
        "    y_hat = model(X)\n",
        "    loss = loss_func(y_hat, y)                  # loss_func is an object used as a function\n",
        "    \n",
        "    # backward pass and update\n",
        "    loss.backward()\n",
        "    optimizer.step()\n",
        "\n",
        "    # zero grad before new step\n",
        "    optimizer.zero_grad()                       # dy_hat/dw = 0 after every epoch\n",
        "\n",
        "    if (epoch+1) % 10 == 0:\n",
        "        print(f'epoch: {epoch+1}, loss = {loss.item():.4f}')"
      ],
      "execution_count": 33,
      "outputs": [
        {
          "output_type": "stream",
          "text": [
            "epoch: 10, loss = 4009.9326\n",
            "epoch: 20, loss = 2825.8999\n",
            "epoch: 30, loss = 2019.1232\n",
            "epoch: 40, loss = 1469.2788\n",
            "epoch: 50, loss = 1094.4603\n",
            "epoch: 60, loss = 838.8992\n",
            "epoch: 70, loss = 664.6140\n",
            "epoch: 80, loss = 545.7325\n",
            "epoch: 90, loss = 464.6261\n",
            "epoch: 100, loss = 409.2807\n",
            "epoch: 110, loss = 371.5068\n",
            "epoch: 120, loss = 345.7210\n",
            "epoch: 130, loss = 328.1154\n",
            "epoch: 140, loss = 316.0927\n",
            "epoch: 150, loss = 307.8810\n",
            "epoch: 160, loss = 302.2716\n",
            "epoch: 170, loss = 298.4390\n",
            "epoch: 180, loss = 295.8200\n",
            "epoch: 190, loss = 294.0301\n",
            "epoch: 200, loss = 292.8065\n"
          ],
          "name": "stdout"
        }
      ]
    },
    {
      "cell_type": "code",
      "metadata": {
        "colab": {
          "base_uri": "https://localhost:8080/",
          "height": 265
        },
        "id": "VtnLaPeG6tSl",
        "outputId": "132b8b67-5a75-451a-f603-2dd83fb016e3"
      },
      "source": [
        "# plot\n",
        "predicted = model(X).detach().numpy()         # detaching tensor\n",
        "\n",
        "plt.plot(X_numpy, y_numpy, 'ro')\n",
        "plt.plot(X_numpy, predicted, 'b')\n",
        "plt.show()"
      ],
      "execution_count": 34,
      "outputs": [
        {
          "output_type": "display_data",
          "data": {
            "image/png": "[encoded data removed]",
            "text/plain": [
              "<Figure size 432x288 with 1 Axes>"
            ]
          },
          "metadata": {
            "tags": [],
            "needs_background": "light"
          }
        }
      ]
    },
    {
      "cell_type": "code",
      "metadata": {
        "colab": {
          "base_uri": "https://localhost:8080/"
        },
        "id": "cyj4CXQE9UVG",
        "outputId": "889a5db9-e2ba-4ee7-8f93-519ac374adde"
      },
      "source": [
        "predicted[:10]"
      ],
      "execution_count": 37,
      "outputs": [
        {
          "output_type": "execute_result",
          "data": {
            "text/plain": [
              "array([[-98.99765  ],\n",
              "       [ 25.597235 ],\n",
              "       [ 69.74962  ],\n",
              "       [  2.404123 ],\n",
              "       [  3.2894497],\n",
              "       [  3.3331916],\n",
              "       [ 52.79124  ],\n",
              "       [ 58.563217 ],\n",
              "       [-84.069336 ],\n",
              "       [ 12.921341 ]], dtype=float32)"
            ]
          },
          "metadata": {
            "tags": []
          },
          "execution_count": 37
        }
      ]
    },
    {
      "cell_type": "code",
      "metadata": {
        "colab": {
          "base_uri": "https://localhost:8080/"
        },
        "id": "3kNsruwQ9ct7",
        "outputId": "7662f50a-8705-409e-d407-0325fc243300"
      },
      "source": [
        "y_numpy[:10]"
      ],
      "execution_count": 38,
      "outputs": [
        {
          "output_type": "execute_result",
          "data": {
            "text/plain": [
              "array([-126.24922409,   50.92876904,   63.15463302,    6.05472009,\n",
              "         -5.72954025,   -2.75191769,   58.70355923,   53.81362958,\n",
              "        -95.34105851,   24.64812471])"
            ]
          },
          "metadata": {
            "tags": []
          },
          "execution_count": 38
        }
      ]
    },
    {
      "cell_type": "code",
      "metadata": {
        "colab": {
          "base_uri": "https://localhost:8080/"
        },
        "id": "fvzaY9wR9mEr",
        "outputId": "7f8909b8-2d91-4a70-b442-6a0b371f55cd"
      },
      "source": [
        "X_numpy[:10]"
      ],
      "execution_count": 40,
      "outputs": [
        {
          "output_type": "execute_result",
          "data": {
            "text/plain": [
              "array([[-1.3474603 ],\n",
              "       [ 0.3523434 ],\n",
              "       [ 0.9546986 ],\n",
              "       [ 0.03592805],\n",
              "       [ 0.04800625],\n",
              "       [ 0.04860301],\n",
              "       [ 0.72334161],\n",
              "       [ 0.80208661],\n",
              "       [-1.14379857],\n",
              "       [ 0.17941071]])"
            ]
          },
          "metadata": {
            "tags": []
          },
          "execution_count": 40
        }
      ]
    }
  ]
}